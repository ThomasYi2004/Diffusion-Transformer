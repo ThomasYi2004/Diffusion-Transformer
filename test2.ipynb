{
 "cells": [
  {
   "cell_type": "code",
   "execution_count": 3,
   "id": "8a22374f",
   "metadata": {},
   "outputs": [],
   "source": [
    "import numpy as np\n",
    "import jax\n",
    "import jax.numpy as jnp\n",
    "from jax.scipy.special import logsumexp\n",
    "from torchvision.datasets import MNIST\n",
    "from torch.utils.data import DataLoader"
   ]
  },
  {
   "cell_type": "code",
   "execution_count": 4,
   "id": "63eb569b",
   "metadata": {},
   "outputs": [
    {
     "name": "stdout",
     "output_type": "stream",
     "text": [
      "[[(512, 784), (512,)], [(256, 512), (256,)], [(10, 256), (10,)]]\n"
     ]
    }
   ],
   "source": [
    "seed = 0\n",
    "\n",
    "\n",
    "def init_MLP(parkey, layer_widths, scale = 0.01):\n",
    "    params = []\n",
    "    keys = jax.random.split(parkey, num=len(layer_widths)-1)\n",
    "    for in_width, out_width, key in zip(layer_widths[:-1],layer_widths[1:], keys):\n",
    "        wkey, bkey = jax.random.split(key)\n",
    "        params.append([scale*jax.random.normal(wkey, shape=(out_width,in_width)),scale*jax.random.normal(bkey, shape=(out_width))])\n",
    "\n",
    "    return params\n",
    "\n",
    "\n",
    "key = jax.random.PRNGKey(seed)\n",
    "MLP_params = init_MLP(key, [784,512,256,10])\n",
    "print(jax.tree.map(lambda x: x.shape, MLP_params))\n"
   ]
  },
  {
   "cell_type": "code",
   "execution_count": 5,
   "id": "9c7bda25",
   "metadata": {},
   "outputs": [
    {
     "name": "stdout",
     "output_type": "stream",
     "text": [
      "(16, 10)\n"
     ]
    }
   ],
   "source": [
    "# @jax.jit\n",
    "def predict(params, x):\n",
    "    # print(\"hi\")\n",
    "    hidden_layers = params[:-1]\n",
    "\n",
    "    activation = x\n",
    "    for w, b in hidden_layers:\n",
    "        activation = jax.nn.relu(jnp.dot(w, activation) + b)\n",
    "\n",
    "    w_last, b_last = params[-1]\n",
    "\n",
    "    logits = jnp.dot(w_last, activation) + b_last\n",
    "\n",
    "    return logits - logsumexp(logits)\n",
    "\n",
    "dummy_img_flat = np.random.randn(16, 784)\n",
    "\n",
    "prediction = jax.vmap(predict, in_axes=(None, 0))(MLP_params, dummy_img_flat)\n",
    "batch_predict = jax.vmap(predict, in_axes=(None, 0))\n",
    "# prediction = jax.vmap(predict, in_axes=(None, 1))(MLP_params, dummy_img_flat)\n",
    "print(prediction.shape)\n"
   ]
  },
  {
   "cell_type": "code",
   "execution_count": 10,
   "id": "1798d414",
   "metadata": {},
   "outputs": [
    {
     "name": "stdout",
     "output_type": "stream",
     "text": [
      "784\n"
     ]
    }
   ],
   "source": [
    "def custom_collate(batch):\n",
    "    transposed_data = list(zip(*batch))\n",
    "    # print((transposed_data))\n",
    "\n",
    "    imgs = np.array(transposed_data[0])\n",
    "    labels = np.array(transposed_data[1])\n",
    "\n",
    "    # print(len(imgs))\n",
    "\n",
    "    return imgs, labels\n",
    "\n",
    "\n",
    "train_dataset = MNIST(root='./train_mnist',train=True, download=True,transform=lambda x: np.ravel(np.array(x, dtype=np.float32)))\n",
    "test_dataset = MNIST(root='./test_mnist',train=False, download=True,transform=lambda x: np.ravel(np.array(x, dtype=np.float32)))\n",
    "# print(type(train_dataset))\n",
    "# print((train_dataset[0][0].shape))\n",
    "\n",
    "BATCH_SIZE = 128\n",
    "\n",
    "train_loader = DataLoader(train_dataset, batch_size=BATCH_SIZE, shuffle=True, collate_fn=custom_collate)\n",
    "\n",
    "batch_data = next(iter(train_loader))\n",
    "print(len(batch_data[0][0]))"
   ]
  },
  {
   "cell_type": "code",
   "execution_count": 11,
   "id": "bd2ac5fe",
   "metadata": {},
   "outputs": [
    {
     "name": "stdout",
     "output_type": "stream",
     "text": [
      "0.24243307\n",
      "0.09901209\n",
      "0.06954474\n",
      "0.04485036\n"
     ]
    },
    {
     "ename": "KeyboardInterrupt",
     "evalue": "",
     "output_type": "error",
     "traceback": [
      "\u001b[31m---------------------------------------------------------------------------\u001b[39m",
      "\u001b[31mKeyboardInterrupt\u001b[39m                         Traceback (most recent call last)",
      "\u001b[36mCell\u001b[39m\u001b[36m \u001b[39m\u001b[32mIn[11]\u001b[39m\u001b[32m, line 18\u001b[39m\n\u001b[32m     16\u001b[39m \u001b[38;5;28;01mfor\u001b[39;00m cnt, (imgs, labels) \u001b[38;5;129;01min\u001b[39;00m \u001b[38;5;28menumerate\u001b[39m(train_loader):\n\u001b[32m     17\u001b[39m     gt_labels = jax.nn.one_hot(labels,\u001b[38;5;28mlen\u001b[39m(MNIST.classes))\n\u001b[32m---> \u001b[39m\u001b[32m18\u001b[39m     l, MLP_params = \u001b[43mupdate\u001b[49m\u001b[43m(\u001b[49m\u001b[43mMLP_params\u001b[49m\u001b[43m,\u001b[49m\u001b[43m \u001b[49m\u001b[43mimgs\u001b[49m\u001b[43m,\u001b[49m\u001b[43m \u001b[49m\u001b[43mgt_labels\u001b[49m\u001b[43m)\u001b[49m\n\u001b[32m     20\u001b[39m     \u001b[38;5;28;01mif\u001b[39;00m cnt % \u001b[32m50\u001b[39m == \u001b[32m0\u001b[39m:\n\u001b[32m     21\u001b[39m         \u001b[38;5;28mprint\u001b[39m(l)\n",
      "\u001b[36mCell\u001b[39m\u001b[36m \u001b[39m\u001b[32mIn[11]\u001b[39m\u001b[32m, line 11\u001b[39m, in \u001b[36mupdate\u001b[39m\u001b[34m(params, imgs, gt_labels, lr)\u001b[39m\n\u001b[32m     10\u001b[39m \u001b[38;5;28;01mdef\u001b[39;00m\u001b[38;5;250m \u001b[39m\u001b[34mupdate\u001b[39m(params, imgs, gt_labels, lr=\u001b[32m0.01\u001b[39m):\n\u001b[32m---> \u001b[39m\u001b[32m11\u001b[39m     l, grads = \u001b[43mvalue_and_grad\u001b[49m\u001b[43m(\u001b[49m\u001b[43mloss\u001b[49m\u001b[43m)\u001b[49m\u001b[43m(\u001b[49m\u001b[43mparams\u001b[49m\u001b[43m,\u001b[49m\u001b[43mimgs\u001b[49m\u001b[43m,\u001b[49m\u001b[43mgt_labels\u001b[49m\u001b[43m)\u001b[49m\n\u001b[32m     12\u001b[39m     \u001b[38;5;28;01mreturn\u001b[39;00m l, jax.tree.map(\u001b[38;5;28;01mlambda\u001b[39;00m p, g: p - lr*g, params, grads)\n",
      "    \u001b[31m[... skipping hidden 1 frame]\u001b[39m\n",
      "\u001b[36mFile \u001b[39m\u001b[32mc:\\Users\\chxyi\\anaconda3\\envs\\DiT\\Lib\\site-packages\\jax\\_src\\api.py:468\u001b[39m, in \u001b[36mvalue_and_grad.<locals>.value_and_grad_f\u001b[39m\u001b[34m(*args, **kwargs)\u001b[39m\n\u001b[32m    466\u001b[39m _check_scalar(ans)\n\u001b[32m    467\u001b[39m tree_map(partial(_check_output_dtype_grad, holomorphic), ans)\n\u001b[32m--> \u001b[39m\u001b[32m468\u001b[39m g = \u001b[43mvjp_py\u001b[49m\u001b[43m(\u001b[49m\u001b[43mlax_internal\u001b[49m\u001b[43m.\u001b[49m\u001b[43m_one\u001b[49m\u001b[43m(\u001b[49m\u001b[43mans\u001b[49m\u001b[43m)\u001b[49m\u001b[43m)\u001b[49m\n\u001b[32m    469\u001b[39m g = g[\u001b[32m0\u001b[39m] \u001b[38;5;28;01mif\u001b[39;00m \u001b[38;5;28misinstance\u001b[39m(argnums, \u001b[38;5;28mint\u001b[39m) \u001b[38;5;28;01melse\u001b[39;00m g\n\u001b[32m    470\u001b[39m \u001b[38;5;28;01mif\u001b[39;00m \u001b[38;5;129;01mnot\u001b[39;00m has_aux:\n",
      "\u001b[36mFile \u001b[39m\u001b[32mc:\\Users\\chxyi\\anaconda3\\envs\\DiT\\Lib\\site-packages\\jax\\_src\\tree_util.py:477\u001b[39m, in \u001b[36m_HashableCallableShim.__call__\u001b[39m\u001b[34m(self, *args, **kw)\u001b[39m\n\u001b[32m    476\u001b[39m \u001b[38;5;28;01mdef\u001b[39;00m\u001b[38;5;250m \u001b[39m\u001b[34m__call__\u001b[39m(\u001b[38;5;28mself\u001b[39m, *args, **kw):\n\u001b[32m--> \u001b[39m\u001b[32m477\u001b[39m   \u001b[38;5;28;01mreturn\u001b[39;00m \u001b[38;5;28;43mself\u001b[39;49m\u001b[43m.\u001b[49m\u001b[43mfun\u001b[49m\u001b[43m(\u001b[49m\u001b[43m*\u001b[49m\u001b[43margs\u001b[49m\u001b[43m,\u001b[49m\u001b[43m \u001b[49m\u001b[43m*\u001b[49m\u001b[43m*\u001b[49m\u001b[43mkw\u001b[49m\u001b[43m)\u001b[49m\n",
      "\u001b[36mFile \u001b[39m\u001b[32mc:\\Users\\chxyi\\anaconda3\\envs\\DiT\\Lib\\site-packages\\jax\\_src\\api.py:1886\u001b[39m, in \u001b[36m_vjp_pullback_wrapper\u001b[39m\u001b[34m(name, out_primal_avals, io_tree, fun, *py_args_)\u001b[39m\n\u001b[32m   1879\u001b[39m   \u001b[38;5;28;01mif\u001b[39;00m (\u001b[38;5;129;01mnot\u001b[39;00m core.typecompat(ct_aval, ct_aval_expected) \u001b[38;5;129;01mand\u001b[39;00m\n\u001b[32m   1880\u001b[39m       \u001b[38;5;129;01mnot\u001b[39;00m _temporary_dtype_exception(ct_aval, ct_aval_expected)):\n\u001b[32m   1881\u001b[39m     \u001b[38;5;28;01mraise\u001b[39;00m \u001b[38;5;167;01mValueError\u001b[39;00m(\n\u001b[32m   1882\u001b[39m         \u001b[33m\"\u001b[39m\u001b[33munexpected JAX type (e.g. shape/dtype) for argument to vjp function: \u001b[39m\u001b[33m\"\u001b[39m\n\u001b[32m   1883\u001b[39m         \u001b[33mf\u001b[39m\u001b[33m\"\u001b[39m\u001b[33mgot \u001b[39m\u001b[38;5;132;01m{\u001b[39;00mct_aval.str_short()\u001b[38;5;132;01m}\u001b[39;00m\u001b[33m, but expected \u001b[39m\u001b[38;5;132;01m{\u001b[39;00mct_aval_expected.str_short()\u001b[38;5;132;01m}\u001b[39;00m\u001b[33m \u001b[39m\u001b[33m\"\u001b[39m\n\u001b[32m   1884\u001b[39m         \u001b[33mf\u001b[39m\u001b[33m\"\u001b[39m\u001b[33mbecause the corresponding output of the function \u001b[39m\u001b[38;5;132;01m{\u001b[39;00mname\u001b[38;5;132;01m}\u001b[39;00m\u001b[33m had JAX type \u001b[39m\u001b[33m\"\u001b[39m\n\u001b[32m   1885\u001b[39m         \u001b[33mf\u001b[39m\u001b[33m\"\u001b[39m\u001b[38;5;132;01m{\u001b[39;00maval.str_short()\u001b[38;5;132;01m}\u001b[39;00m\u001b[33m\"\u001b[39m)\n\u001b[32m-> \u001b[39m\u001b[32m1886\u001b[39m ans = \u001b[43mfun\u001b[49m\u001b[43m(\u001b[49m\u001b[43m*\u001b[49m\u001b[43margs\u001b[49m\u001b[43m)\u001b[49m\n\u001b[32m   1887\u001b[39m \u001b[38;5;28;01mreturn\u001b[39;00m tree_unflatten(out_tree, ans)\n",
      "\u001b[36mFile \u001b[39m\u001b[32mc:\\Users\\chxyi\\anaconda3\\envs\\DiT\\Lib\\site-packages\\jax\\_src\\tree_util.py:477\u001b[39m, in \u001b[36m_HashableCallableShim.__call__\u001b[39m\u001b[34m(self, *args, **kw)\u001b[39m\n\u001b[32m    476\u001b[39m \u001b[38;5;28;01mdef\u001b[39;00m\u001b[38;5;250m \u001b[39m\u001b[34m__call__\u001b[39m(\u001b[38;5;28mself\u001b[39m, *args, **kw):\n\u001b[32m--> \u001b[39m\u001b[32m477\u001b[39m   \u001b[38;5;28;01mreturn\u001b[39;00m \u001b[38;5;28;43mself\u001b[39;49m\u001b[43m.\u001b[49m\u001b[43mfun\u001b[49m\u001b[43m(\u001b[49m\u001b[43m*\u001b[49m\u001b[43margs\u001b[49m\u001b[43m,\u001b[49m\u001b[43m \u001b[49m\u001b[43m*\u001b[49m\u001b[43m*\u001b[49m\u001b[43mkw\u001b[49m\u001b[43m)\u001b[49m\n",
      "\u001b[36mFile \u001b[39m\u001b[32mc:\\Users\\chxyi\\anaconda3\\envs\\DiT\\Lib\\site-packages\\jax\\_src\\interpreters\\ad.py:149\u001b[39m, in \u001b[36mvjp.<locals>.unbound_vjp\u001b[39m\u001b[34m(pvals, jaxpr, consts, *cts)\u001b[39m\n\u001b[32m    147\u001b[39m cts = \u001b[38;5;28mtuple\u001b[39m(ct \u001b[38;5;28;01mfor\u001b[39;00m ct, pval \u001b[38;5;129;01min\u001b[39;00m \u001b[38;5;28mzip\u001b[39m(cts, pvals) \u001b[38;5;28;01mif\u001b[39;00m \u001b[38;5;129;01mnot\u001b[39;00m pval.is_known())\n\u001b[32m    148\u001b[39m dummy_args = [UndefinedPrimal(v.aval) \u001b[38;5;28;01mfor\u001b[39;00m v \u001b[38;5;129;01min\u001b[39;00m jaxpr.invars]\n\u001b[32m--> \u001b[39m\u001b[32m149\u001b[39m arg_cts = \u001b[43mbackward_pass\u001b[49m\u001b[43m(\u001b[49m\u001b[43mjaxpr\u001b[49m\u001b[43m,\u001b[49m\u001b[43m \u001b[49m\u001b[38;5;28;43;01mTrue\u001b[39;49;00m\u001b[43m,\u001b[49m\u001b[43m \u001b[49m\u001b[43mconsts\u001b[49m\u001b[43m,\u001b[49m\u001b[43m \u001b[49m\u001b[43mdummy_args\u001b[49m\u001b[43m,\u001b[49m\u001b[43m \u001b[49m\u001b[43mcts\u001b[49m\u001b[43m)\u001b[49m\n\u001b[32m    150\u001b[39m \u001b[38;5;28;01mreturn\u001b[39;00m \u001b[38;5;28mmap\u001b[39m(instantiate_zeros, arg_cts)\n",
      "\u001b[36mFile \u001b[39m\u001b[32mc:\\Users\\chxyi\\anaconda3\\envs\\DiT\\Lib\\site-packages\\jax\\_src\\interpreters\\ad.py:237\u001b[39m, in \u001b[36mbackward_pass\u001b[39m\u001b[34m(jaxpr, transform_stack, consts, primals_in, cotangents_in)\u001b[39m\n\u001b[32m    234\u001b[39m   cts_out = get_primitive_transpose(eqn.primitive)(\n\u001b[32m    235\u001b[39m       params, call_jaxpr, invals, cts_in, cts_in_avals)\n\u001b[32m    236\u001b[39m \u001b[38;5;28;01melif\u001b[39;00m eqn.primitive \u001b[38;5;129;01min\u001b[39;00m reducing_transposes:\n\u001b[32m--> \u001b[39m\u001b[32m237\u001b[39m   cts_out = \u001b[43mreducing_transposes\u001b[49m\u001b[43m[\u001b[49m\u001b[43meqn\u001b[49m\u001b[43m.\u001b[49m\u001b[43mprimitive\u001b[49m\u001b[43m]\u001b[49m\u001b[43m(\u001b[49m\n\u001b[32m    238\u001b[39m \u001b[43m      \u001b[49m\u001b[43mcts_in\u001b[49m\u001b[43m,\u001b[49m\u001b[43m \u001b[49m\u001b[43m*\u001b[49m\u001b[43minvals\u001b[49m\u001b[43m,\u001b[49m\u001b[43m \u001b[49m\u001b[43m*\u001b[49m\u001b[43m*\u001b[49m\u001b[43meqn\u001b[49m\u001b[43m.\u001b[49m\u001b[43mparams\u001b[49m\u001b[43m)\u001b[49m\n\u001b[32m    239\u001b[39m \u001b[38;5;28;01melse\u001b[39;00m:\n\u001b[32m    240\u001b[39m   cts_out = get_primitive_transpose(eqn.primitive)(\n\u001b[32m    241\u001b[39m       cts_in, *invals, **eqn.params)\n",
      "\u001b[36mFile \u001b[39m\u001b[32mc:\\Users\\chxyi\\anaconda3\\envs\\DiT\\Lib\\site-packages\\jax\\_src\\pjit.py:2297\u001b[39m, in \u001b[36m_pjit_transpose\u001b[39m\u001b[34m(cts_in, jaxpr, in_shardings, out_shardings, in_layouts, out_layouts, resource_env, donated_invars, name, keep_unused, inline, *primals_in)\u001b[39m\n\u001b[32m   2294\u001b[39m   transpose_in_layouts = (\u001b[38;5;28;01mNone\u001b[39;00m,) * \u001b[38;5;28mlen\u001b[39m(attrs_tracked) + transpose_in_layouts\n\u001b[32m   2295\u001b[39m   transpose_out_layouts = (\u001b[38;5;28;01mNone\u001b[39;00m,) * \u001b[38;5;28mlen\u001b[39m(attrs_tracked) + transpose_out_layouts\n\u001b[32m-> \u001b[39m\u001b[32m2297\u001b[39m nz_cts_out = \u001b[43mpjit_p\u001b[49m\u001b[43m.\u001b[49m\u001b[43mbind\u001b[49m\u001b[43m(\u001b[49m\n\u001b[32m   2298\u001b[39m \u001b[43m    \u001b[49m\u001b[43m*\u001b[49m\u001b[43mprimals_and_nz_cts_in\u001b[49m\u001b[43m,\u001b[49m\n\u001b[32m   2299\u001b[39m \u001b[43m    \u001b[49m\u001b[43mjaxpr\u001b[49m\u001b[43m=\u001b[49m\u001b[43mtranspose_jaxpr\u001b[49m\u001b[43m,\u001b[49m\n\u001b[32m   2300\u001b[39m \u001b[43m    \u001b[49m\u001b[43min_shardings\u001b[49m\u001b[43m=\u001b[49m\u001b[43mtranspose_in_shardings\u001b[49m\u001b[43m,\u001b[49m\n\u001b[32m   2301\u001b[39m \u001b[43m    \u001b[49m\u001b[43mout_shardings\u001b[49m\u001b[43m=\u001b[49m\u001b[43mtranspose_out_shardings\u001b[49m\u001b[43m,\u001b[49m\n\u001b[32m   2302\u001b[39m \u001b[43m    \u001b[49m\u001b[43min_layouts\u001b[49m\u001b[43m=\u001b[49m\u001b[43mtranspose_in_layouts\u001b[49m\u001b[43m,\u001b[49m\n\u001b[32m   2303\u001b[39m \u001b[43m    \u001b[49m\u001b[43mout_layouts\u001b[49m\u001b[43m=\u001b[49m\u001b[43mtranspose_out_layouts\u001b[49m\u001b[43m,\u001b[49m\n\u001b[32m   2304\u001b[39m \u001b[43m    \u001b[49m\u001b[43mresource_env\u001b[49m\u001b[43m=\u001b[49m\u001b[43mresource_env\u001b[49m\u001b[43m,\u001b[49m\n\u001b[32m   2305\u001b[39m \u001b[43m    \u001b[49m\u001b[43mdonated_invars\u001b[49m\u001b[43m=\u001b[49m\u001b[43m(\u001b[49m\u001b[38;5;28;43;01mFalse\u001b[39;49;00m\u001b[43m,\u001b[49m\u001b[43m)\u001b[49m\u001b[43m \u001b[49m\u001b[43m*\u001b[49m\u001b[43m \u001b[49m\u001b[38;5;28;43mlen\u001b[39;49m\u001b[43m(\u001b[49m\u001b[43mprimals_and_nz_cts_in\u001b[49m\u001b[43m)\u001b[49m\u001b[43m,\u001b[49m\n\u001b[32m   2306\u001b[39m \u001b[43m    \u001b[49m\u001b[43mname\u001b[49m\u001b[43m=\u001b[49m\u001b[43mname\u001b[49m\u001b[43m,\u001b[49m\n\u001b[32m   2307\u001b[39m \u001b[43m    \u001b[49m\u001b[43mkeep_unused\u001b[49m\u001b[43m=\u001b[49m\u001b[43mkeep_unused\u001b[49m\u001b[43m,\u001b[49m\n\u001b[32m   2308\u001b[39m \u001b[43m    \u001b[49m\u001b[43minline\u001b[49m\u001b[43m=\u001b[49m\u001b[43minline\u001b[49m\u001b[43m)\u001b[49m\n\u001b[32m   2310\u001b[39m \u001b[38;5;28;01mif\u001b[39;00m attrs_tracked:\n\u001b[32m   2311\u001b[39m   final_states, nz_cts_out = split_list(nz_cts_out, [\u001b[38;5;28mlen\u001b[39m(init_states)])\n",
      "\u001b[36mFile \u001b[39m\u001b[32mc:\\Users\\chxyi\\anaconda3\\envs\\DiT\\Lib\\site-packages\\jax\\_src\\core.py:2803\u001b[39m, in \u001b[36mAxisPrimitive.bind\u001b[39m\u001b[34m(self, *args, **params)\u001b[39m\n\u001b[32m   2799\u001b[39m axis_main = \u001b[38;5;28mmax\u001b[39m((axis_frame(a).main_trace \u001b[38;5;28;01mfor\u001b[39;00m a \u001b[38;5;129;01min\u001b[39;00m used_axis_names(\u001b[38;5;28mself\u001b[39m, params)),\n\u001b[32m   2800\u001b[39m                 default=\u001b[38;5;28;01mNone\u001b[39;00m, key=\u001b[38;5;28;01mlambda\u001b[39;00m t: \u001b[38;5;28mgetattr\u001b[39m(t, \u001b[33m'\u001b[39m\u001b[33mlevel\u001b[39m\u001b[33m'\u001b[39m, -\u001b[32m1\u001b[39m))\n\u001b[32m   2801\u001b[39m top_trace = (top_trace \u001b[38;5;28;01mif\u001b[39;00m \u001b[38;5;129;01mnot\u001b[39;00m axis_main \u001b[38;5;129;01mor\u001b[39;00m axis_main.level < top_trace.level\n\u001b[32m   2802\u001b[39m              \u001b[38;5;28;01melse\u001b[39;00m axis_main.with_cur_sublevel())\n\u001b[32m-> \u001b[39m\u001b[32m2803\u001b[39m \u001b[38;5;28;01mreturn\u001b[39;00m \u001b[38;5;28;43mself\u001b[39;49m\u001b[43m.\u001b[49m\u001b[43mbind_with_trace\u001b[49m\u001b[43m(\u001b[49m\u001b[43mtop_trace\u001b[49m\u001b[43m,\u001b[49m\u001b[43m \u001b[49m\u001b[43margs\u001b[49m\u001b[43m,\u001b[49m\u001b[43m \u001b[49m\u001b[43mparams\u001b[49m\u001b[43m)\u001b[49m\n",
      "\u001b[36mFile \u001b[39m\u001b[32mc:\\Users\\chxyi\\anaconda3\\envs\\DiT\\Lib\\site-packages\\jax\\_src\\core.py:442\u001b[39m, in \u001b[36mPrimitive.bind_with_trace\u001b[39m\u001b[34m(self, trace, args, params)\u001b[39m\n\u001b[32m    440\u001b[39m \u001b[38;5;28;01mdef\u001b[39;00m\u001b[38;5;250m \u001b[39m\u001b[34mbind_with_trace\u001b[39m(\u001b[38;5;28mself\u001b[39m, trace, args, params):\n\u001b[32m    441\u001b[39m   \u001b[38;5;28;01mwith\u001b[39;00m pop_level(trace.level):\n\u001b[32m--> \u001b[39m\u001b[32m442\u001b[39m     out = \u001b[43mtrace\u001b[49m\u001b[43m.\u001b[49m\u001b[43mprocess_primitive\u001b[49m\u001b[43m(\u001b[49m\u001b[38;5;28;43mself\u001b[39;49m\u001b[43m,\u001b[49m\u001b[43m \u001b[49m\u001b[38;5;28;43mmap\u001b[39;49m\u001b[43m(\u001b[49m\u001b[43mtrace\u001b[49m\u001b[43m.\u001b[49m\u001b[43mfull_raise\u001b[49m\u001b[43m,\u001b[49m\u001b[43m \u001b[49m\u001b[43margs\u001b[49m\u001b[43m)\u001b[49m\u001b[43m,\u001b[49m\u001b[43m \u001b[49m\u001b[43mparams\u001b[49m\u001b[43m)\u001b[49m\n\u001b[32m    443\u001b[39m   \u001b[38;5;28;01mreturn\u001b[39;00m \u001b[38;5;28mmap\u001b[39m(full_lower, out) \u001b[38;5;28;01mif\u001b[39;00m \u001b[38;5;28mself\u001b[39m.multiple_results \u001b[38;5;28;01melse\u001b[39;00m full_lower(out)\n",
      "\u001b[36mFile \u001b[39m\u001b[32mc:\\Users\\chxyi\\anaconda3\\envs\\DiT\\Lib\\site-packages\\jax\\_src\\core.py:955\u001b[39m, in \u001b[36mEvalTrace.process_primitive\u001b[39m\u001b[34m(self, primitive, tracers, params)\u001b[39m\n\u001b[32m    953\u001b[39m   \u001b[38;5;28;01mreturn\u001b[39;00m call_impl_with_key_reuse_checks(primitive, primitive.impl, *tracers, **params)\n\u001b[32m    954\u001b[39m \u001b[38;5;28;01melse\u001b[39;00m:\n\u001b[32m--> \u001b[39m\u001b[32m955\u001b[39m   \u001b[38;5;28;01mreturn\u001b[39;00m \u001b[43mprimitive\u001b[49m\u001b[43m.\u001b[49m\u001b[43mimpl\u001b[49m\u001b[43m(\u001b[49m\u001b[43m*\u001b[49m\u001b[43mtracers\u001b[49m\u001b[43m,\u001b[49m\u001b[43m \u001b[49m\u001b[43m*\u001b[49m\u001b[43m*\u001b[49m\u001b[43mparams\u001b[49m\u001b[43m)\u001b[49m\n",
      "\u001b[36mFile \u001b[39m\u001b[32mc:\\Users\\chxyi\\anaconda3\\envs\\DiT\\Lib\\site-packages\\jax\\_src\\pjit.py:1738\u001b[39m, in \u001b[36m_pjit_call_impl\u001b[39m\u001b[34m(jaxpr, in_shardings, out_shardings, in_layouts, out_layouts, resource_env, donated_invars, name, keep_unused, inline, *args)\u001b[39m\n\u001b[32m   1729\u001b[39m donated_argnums = \u001b[38;5;28mtuple\u001b[39m(i \u001b[38;5;28;01mfor\u001b[39;00m i, d \u001b[38;5;129;01min\u001b[39;00m \u001b[38;5;28menumerate\u001b[39m(donated_invars) \u001b[38;5;28;01mif\u001b[39;00m d)\n\u001b[32m   1730\u001b[39m cache_key = pxla.JitGlobalCppCacheKeys(\n\u001b[32m   1731\u001b[39m     donate_argnums=donated_argnums, donate_argnames=\u001b[38;5;28;01mNone\u001b[39;00m,\n\u001b[32m   1732\u001b[39m     device=\u001b[38;5;28;01mNone\u001b[39;00m, backend=\u001b[38;5;28;01mNone\u001b[39;00m,\n\u001b[32m   (...)\u001b[39m\u001b[32m   1736\u001b[39m     out_layouts_treedef=\u001b[38;5;28;01mNone\u001b[39;00m, out_layouts_leaves=out_layouts,\n\u001b[32m   1737\u001b[39m     use_resource_env=resource_env \u001b[38;5;129;01mis\u001b[39;00m \u001b[38;5;129;01mnot\u001b[39;00m \u001b[38;5;28;01mNone\u001b[39;00m)\n\u001b[32m-> \u001b[39m\u001b[32m1738\u001b[39m \u001b[38;5;28;01mreturn\u001b[39;00m \u001b[43mxc\u001b[49m\u001b[43m.\u001b[49m\u001b[43m_xla\u001b[49m\u001b[43m.\u001b[49m\u001b[43mpjit\u001b[49m\u001b[43m(\u001b[49m\n\u001b[32m   1739\u001b[39m \u001b[43m    \u001b[49m\u001b[43mname\u001b[49m\u001b[43m,\u001b[49m\u001b[43m \u001b[49m\u001b[43mf\u001b[49m\u001b[43m,\u001b[49m\u001b[43m \u001b[49m\u001b[43mcall_impl_cache_miss\u001b[49m\u001b[43m,\u001b[49m\u001b[43m \u001b[49m\u001b[43m[\u001b[49m\u001b[43m]\u001b[49m\u001b[43m,\u001b[49m\u001b[43m \u001b[49m\u001b[43m[\u001b[49m\u001b[43m]\u001b[49m\u001b[43m,\u001b[49m\u001b[43m \u001b[49m\u001b[43mcache_key\u001b[49m\u001b[43m,\u001b[49m\n\u001b[32m   1740\u001b[39m \u001b[43m    \u001b[49m\u001b[43mtree_util\u001b[49m\u001b[43m.\u001b[49m\u001b[43mdispatch_registry\u001b[49m\u001b[43m,\u001b[49m\u001b[43m \u001b[49m\u001b[43mpxla\u001b[49m\u001b[43m.\u001b[49m\u001b[43mcc_shard_arg\u001b[49m\u001b[43m,\u001b[49m\n\u001b[32m   1741\u001b[39m \u001b[43m    \u001b[49m\u001b[43m_get_cpp_global_cache\u001b[49m\u001b[43m(\u001b[49m\u001b[43mcache_key\u001b[49m\u001b[43m.\u001b[49m\u001b[43mcontains_explicit_attributes\u001b[49m\u001b[43m)\u001b[49m\u001b[43m)\u001b[49m\u001b[43m(\u001b[49m\u001b[43m*\u001b[49m\u001b[43margs\u001b[49m\u001b[43m)\u001b[49m\n",
      "\u001b[31mKeyboardInterrupt\u001b[39m: "
     ]
    }
   ],
   "source": [
    "from jax import grad, value_and_grad\n",
    "\n",
    "\n",
    "NUM_EPOCHS = 10\n",
    "\n",
    "def loss(params, imgs, gt_labels):\n",
    "    output = batch_predict(params, imgs)\n",
    "    return -jnp.mean(output*gt_labels)\n",
    "\n",
    "def update(params, imgs, gt_labels, lr=0.01):\n",
    "    l, grads = value_and_grad(loss)(params,imgs,gt_labels)\n",
    "    return l, jax.tree.map(lambda p, g: p - lr*g, params, grads)\n",
    "\n",
    "for epoch in range((NUM_EPOCHS)):\n",
    "\n",
    "    for cnt, (imgs, labels) in enumerate(train_loader):\n",
    "        gt_labels = jax.nn.one_hot(labels,len(MNIST.classes))\n",
    "        l, MLP_params = update(MLP_params, imgs, gt_labels)\n",
    "\n",
    "        if cnt % 50 == 0:\n",
    "            print(l)\n",
    "    break\n",
    "\n"
   ]
  }
 ],
 "metadata": {
  "kernelspec": {
   "display_name": "Python 3",
   "language": "python",
   "name": "python3"
  },
  "language_info": {
   "codemirror_mode": {
    "name": "ipython",
    "version": 3
   },
   "file_extension": ".py",
   "mimetype": "text/x-python",
   "name": "python",
   "nbconvert_exporter": "python",
   "pygments_lexer": "ipython3",
   "version": "3.13.1"
  }
 },
 "nbformat": 4,
 "nbformat_minor": 5
}
