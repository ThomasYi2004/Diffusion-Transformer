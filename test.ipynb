{
 "cells": [
  {
   "cell_type": "code",
   "execution_count": 2,
   "id": "f4b288bd",
   "metadata": {},
   "outputs": [],
   "source": [
    "import jax\n",
    "from jax import lax,random,numpy as jnp\n",
    "\n",
    "import flax\n",
    "from flax.core import freeze, unfreeze\n",
    "from flax import linen as nn\n",
    "from flax.training import train_state\n",
    "\n",
    "# import haiku as hk\n",
    "\n",
    "import optax\n",
    "\n",
    "\n",
    "from torchvision.datasets import MNIST\n",
    "from torch.utils.data import DataLoader\n",
    "\n",
    "import functools\n",
    "from typing import Any,Callable,Sequence,Optional\n",
    "\n",
    "import numpy as np\n",
    "import matplotlib.pyplot as plt"
   ]
  },
  {
   "cell_type": "code",
   "execution_count": null,
   "id": "b3c33835",
   "metadata": {},
   "outputs": [
    {
     "name": "stdout",
     "output_type": "stream",
     "text": [
      "[-1.2137768  -0.36633098  0.06677867 -2.014398   -0.32107347]\n",
      "{'params': {'kernel': Array([[-0.27781105,  0.1656284 , -0.06729937, -0.19215076,  0.321123  ],\n",
      "       [ 0.26235792,  0.27014345, -0.28854737, -0.1615871 ,  0.31653988],\n",
      "       [-0.40874493,  0.6885968 ,  0.46351194, -0.22216477, -0.04983266],\n",
      "       [ 0.09898845,  0.02624258, -0.32574084, -0.71759474,  0.45787135],\n",
      "       [-0.49562743, -0.0781584 ,  0.07065256, -0.5920491 , -0.41872957],\n",
      "       [-0.2380879 ,  0.27913874, -0.68323755,  0.13979784,  0.04806783],\n",
      "       [ 0.24915032, -0.13843682, -0.0688496 , -0.03453913,  0.5834356 ],\n",
      "       [ 0.02020426,  0.19953905,  0.42730477,  0.10579848, -0.04245503],\n",
      "       [ 0.21156143, -0.5489475 ,  0.69323635, -0.24123473,  0.02384394],\n",
      "       [-0.1420826 ,  0.5460323 ,  0.07612853,  0.49402887, -0.25343806]],      dtype=float32), 'bias': Array([0., 0., 0., 0., 0.], dtype=float32)}}\n",
      "{'params': {'bias': (5,), 'kernel': (10, 5)}}\n",
      "[-1.213777   -0.36633098  0.06677864 -2.014398   -0.32107347]\n",
      "[-1.2137768  -0.36633098  0.06677867 -2.014398   -0.32107347]\n"
     ]
    }
   ],
   "source": [
    "model = nn.Dense(features=5)\n",
    "\n",
    "seed = 23\n",
    "\n",
    "key1, key2 = jax.random.split(jax.random.PRNGKey(seed))\n",
    "\n",
    "x = jax.random.normal(key1, (10,))\n",
    "\n",
    "y, params = model.init_with_output(key2,x)\n",
    "\n",
    "print(y)\n",
    "print(params)\n",
    "print(jax.tree.map(lambda x: x.shape, params))\n",
    "\n",
    "y = jnp.dot(params['params']['kernel'].transpose(),x)\n",
    "print(y)\n",
    "y_test = model.apply(params, x)\n",
    "print(y_test)"
   ]
  },
  {
   "cell_type": "code",
   "execution_count": 40,
   "id": "a2c6b616",
   "metadata": {},
   "outputs": [
    {
     "name": "stdout",
     "output_type": "stream",
     "text": [
      "(150, 2) (150, 1)\n"
     ]
    }
   ],
   "source": [
    "n_samples = 150\n",
    "x_dim = 2\n",
    "y_dim = 1\n",
    "key, w_key,b_key = random.split(random.PRNGKey(seed),num=3)\n",
    "noise_weight = 0.01\n",
    "\n",
    "W = random.normal(w_key, (x_dim,y_dim))\n",
    "b = random.normal(b_key, (y_dim,))\n",
    "\n",
    "true_params = freeze({'params': {'bias': b, 'kernel': W}})\n",
    "\n",
    "key, x_key, noise_key = random.split(key, num=3)\n",
    "xs = random.normal(x_key, (n_samples, x_dim))\n",
    "ys = jnp.dot(xs, W)+b + noise_weight*random.normal(noise_key, (n_samples, y_dim))\n",
    "\n",
    "# print(jnp.dot(xs, W),b, jnp.dot(xs,W)+b)\n",
    "# print(b)\n",
    "print(xs.shape,ys.shape)\n"
   ]
  },
  {
   "cell_type": "code",
   "execution_count": 44,
   "id": "32fc1a58",
   "metadata": {},
   "outputs": [],
   "source": [
    "def make_mse_loss(xs, ys):\n",
    "    def mse_loss(params):\n",
    "        def square_loss(x,y):\n",
    "            pred = model.apply(params,x)\n",
    "            return jnp.inner(y-pred,y-pred)\n",
    "        \n",
    "        return jnp.mean(jax.vmap(square_loss)(xs,ys),axis=0)\n",
    "    return jax.jit(mse_loss)\n",
    "\n",
    "mse_loss = make_mse_loss(xs,ys)\n",
    "value_and_grad_fn = jax.value_and_grad(mse_loss)"
   ]
  },
  {
   "cell_type": "code",
   "execution_count": 48,
   "id": "e5516d79",
   "metadata": {},
   "outputs": [
    {
     "name": "stdout",
     "output_type": "stream",
     "text": [
      "epoch: 0, loss: 1.2882237434387207\n",
      "epoch: 10, loss: 0.015024389140307903\n",
      "epoch: 20, loss: 0.00026953377528116107\n",
      "epoch: 30, loss: 9.36854921746999e-05\n",
      "epoch: 40, loss: 9.150459663942456e-05\n"
     ]
    }
   ],
   "source": [
    "model = nn.Dense(features=y_dim)\n",
    "params = model.init(key,xs)\n",
    "\n",
    "epochs = 50\n",
    "lr = 0.1\n",
    "log_epoch = 10\n",
    "\n",
    "for epoch in range(epochs):\n",
    "    loss, grads = value_and_grad_fn(params)\n",
    "\n",
    "    params = jax.tree.map(lambda p, g: p - lr*g, params, grads)\n",
    "\n",
    "    if epoch % log_epoch == 0:\n",
    "        print(f\"epoch: {epoch}, loss: {loss}\")"
   ]
  },
  {
   "cell_type": "code",
   "execution_count": 50,
   "id": "8fdcb8c1",
   "metadata": {},
   "outputs": [],
   "source": [
    "opt_sgd = optax.sgd(learning_rate=lr)\n",
    "opt_state = opt_sgd.init(params)"
   ]
  },
  {
   "cell_type": "code",
   "execution_count": 53,
   "id": "ed2e1b48",
   "metadata": {},
   "outputs": [
    {
     "name": "stdout",
     "output_type": "stream",
     "text": [
      "epoch: 0, loss: 9.147590026259422e-05\n",
      "epoch: 10, loss: 9.147550008492544e-05\n",
      "epoch: 20, loss: 9.147547098109499e-05\n",
      "epoch: 30, loss: 9.147546370513737e-05\n",
      "epoch: 40, loss: 9.147546370513737e-05\n"
     ]
    }
   ],
   "source": [
    "for epoch in range(epochs):\n",
    "    loss, grads = value_and_grad_fn(params)\n",
    "    updates, opt_state = opt_sgd.update(grads, opt_state)\n",
    "    params = optax.apply_updates(params,updates)\n",
    "\n",
    "    if epoch % log_epoch == 0:\n",
    "        print(f\"epoch: {epoch}, loss: {loss}\")"
   ]
  },
  {
   "cell_type": "code",
   "execution_count": 57,
   "id": "c6384b68",
   "metadata": {},
   "outputs": [
    {
     "name": "stdout",
     "output_type": "stream",
     "text": [
      "[[0.3073057  0.04725921 0.33156574 0.95880425]\n",
      " [0.00381255 0.16904569 0.6073719  0.01276541]\n",
      " [0.66728354 0.32034397 0.2885779  0.7781857 ]\n",
      " [0.6977296  0.9792644  0.44513798 0.21770954]] [[ 0.33665472 -0.37799144]\n",
      " [ 0.21020135 -0.13624829]\n",
      " [ 0.4062944  -0.30691484]\n",
      " [ 0.5687312  -0.42791107]]\n"
     ]
    }
   ],
   "source": [
    "class MLP(nn.Module):\n",
    "    features: Sequence[int]\n",
    "\n",
    "    def setup(self):\n",
    "        self.layers = [nn.Dense(n) for n in self.features]\n",
    "    \n",
    "    def __call__(self, x):\n",
    "        activation = x\n",
    "        for i, layer in enumerate(self.layers):\n",
    "            activation = layer(activation)\n",
    "            if i != len(self.features)-1:\n",
    "                activation = nn.relu(activation)\n",
    "\n",
    "        return activation\n",
    "    \n",
    "x_key, init_key = random.split(random.PRNGKey(seed))\n",
    "\n",
    "model = MLP(features=[16,8,2])\n",
    "x = random.uniform(x_key, (4,4))\n",
    "params = model.init(init_key, x)\n",
    "y = model.apply(params, x)\n",
    "print(x, y)"
   ]
  }
 ],
 "metadata": {
  "kernelspec": {
   "display_name": "Python 3",
   "language": "python",
   "name": "python3"
  },
  "language_info": {
   "codemirror_mode": {
    "name": "ipython",
    "version": 3
   },
   "file_extension": ".py",
   "mimetype": "text/x-python",
   "name": "python",
   "nbconvert_exporter": "python",
   "pygments_lexer": "ipython3",
   "version": "3.13.1"
  }
 },
 "nbformat": 4,
 "nbformat_minor": 5
}
